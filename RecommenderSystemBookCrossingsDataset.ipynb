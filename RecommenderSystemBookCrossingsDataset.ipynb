{
 "cells": [
  {
   "cell_type": "code",
   "execution_count": 1,
   "metadata": {
    "collapsed": true
   },
   "outputs": [],
   "source": [
    "from __future__ import print_function\n",
    "\n",
    "from pyspark import SparkContext\n",
    "\n",
    "from pyspark.mllib.recommendation import ALS, MatrixFactorizationModel, Rating\n",
    "\n",
    "import itertools\n",
    "from math import sqrt\n",
    "from operator import add\n",
    "from os.path import join, isfile, dirname\n"
   ]
  },
  {
   "cell_type": "code",
   "execution_count": 2,
   "metadata": {
    "collapsed": true
   },
   "outputs": [],
   "source": [
    "if __name__ == \"__main__\":\n",
    "    #get SparkContext instance\n",
    "    sc = SparkContext.getOrCreate()\n",
    "    \n",
    "    #read input data from Book Crossings dataset\n",
    "    data = sc.textFile(\"C:\\Users\\poonam\\Downloads\\RecommenderSysDataset\\Book-Crossings\\BX-CSV-Dump\\BookCrossings.txt\")\n",
    "\n",
    "    bookCrossings = data.map(lambda l: l.split('\\t'))\n",
    "\n",
    "    ratings = bookCrossings.map(lambda x: Rating(int(x[0]),\\\n",
    "    int(x[1]), float(x[2])))\n",
    "\n",
    "    #devide input data into training and test set\n",
    "    training, test = ratings.randomSplit([0.7,0.3])\n",
    "\n",
    "    training.cache()\n",
    "    test.cache()"
   ]
  },
  {
   "cell_type": "code",
   "execution_count": 3,
   "metadata": {},
   "outputs": [
    {
     "data": {
      "text/plain": [
       "733769"
      ]
     },
     "execution_count": 3,
     "metadata": {},
     "output_type": "execute_result"
    }
   ],
   "source": [
    "    training.count()"
   ]
  },
  {
   "cell_type": "code",
   "execution_count": 4,
   "metadata": {},
   "outputs": [
    {
     "data": {
      "text/plain": [
       "314805"
      ]
     },
     "execution_count": 4,
     "metadata": {},
     "output_type": "execute_result"
    }
   ],
   "source": [
    "    test.count()"
   ]
  },
  {
   "cell_type": "code",
   "execution_count": 5,
   "metadata": {
    "collapsed": true
   },
   "outputs": [],
   "source": [
    "    #set range of parameters for training the model\n",
    "    ranks       = [5, 10]\n",
    "    lambdas     = [0.1, .01]\n",
    "    numIters    = [5, 10]\n",
    "    bestModel   = None\n",
    "    bestValidationRmse = float(\"inf\")\n",
    "    bestRank    = 0\n",
    "    bestLambda  = -1.0\n",
    "    bestNumIter = -1"
   ]
  },
  {
   "cell_type": "code",
   "execution_count": 6,
   "metadata": {},
   "outputs": [
    {
     "name": "stdout",
     "output_type": "stream",
     "text": [
      "5 0.1 5 1.66676025334\n",
      "5 0.1 10 1.47697443255\n",
      "5 0.01 5 1.90262962823\n",
      "5 0.01 10 1.51635047315\n",
      "10 0.1 5 1.16068729316\n",
      "10 0.1 10 1.02313997399\n",
      "10 0.01 5 1.18574534257\n",
      "10 0.01 10 1.02124515909\n"
     ]
    }
   ],
   "source": [
    "    #Train the model on training set and calculate RMSE\n",
    "    for rank, lmbda, numIter in itertools.product(ranks, lambdas, numIters):\n",
    "        model = ALS.train(training, rank, numIter, lmbda)\n",
    "        testdata = training.map(lambda p: (p[0], p[1]))\n",
    "        predictions = model.predictAll(testdata).map(lambda r: ((r[0], r[1]), r[2]))\n",
    "                          \n",
    "        predictionsAndRatings = training.map(lambda r: ((r[0], r[1]), r[2])).join(predictions)\n",
    "        MSE = predictionsAndRatings.map(lambda r: (r[1][0] - r[1][1])**2).mean()\n",
    "        validationRmse = sqrt(MSE)\n",
    "\n",
    "        print(rank, lmbda, numIter, validationRmse)\n",
    "        \n",
    "        if(validationRmse < bestValidationRmse):\n",
    "            bestValidationRmse = validationRmse\n",
    "            bestRank = rank\n",
    "            bestLambda = lmbda\n",
    "            bestNumIter = numIter"
   ]
  },
  {
   "cell_type": "code",
   "execution_count": 7,
   "metadata": {},
   "outputs": [
    {
     "name": "stdout",
     "output_type": "stream",
     "text": [
      "Rank =  10 , Lambda =  0.01 , Iterations =   10 , RMSE =  1.02124515909\n",
      "RMSE for train:\t\t1.02\n"
     ]
    }
   ],
   "source": [
    "print(\"Rank = \",bestRank,\", Lambda = \",bestLambda,\", Iterations =  \",bestNumIter,\", RMSE = \",bestValidationRmse)\n",
    "\n",
    "print(\"RMSE for train:\\t\\t%.2f\" % bestValidationRmse)"
   ]
  },
  {
   "cell_type": "code",
   "execution_count": 8,
   "metadata": {
    "collapsed": true
   },
   "outputs": [],
   "source": [
    "bestModel = ALS.train(training, bestRank, bestNumIter, bestLambda)"
   ]
  },
  {
   "cell_type": "code",
   "execution_count": 9,
   "metadata": {
    "collapsed": true
   },
   "outputs": [],
   "source": [
    "#make predictions on test set and calculate RMSE\n",
    "predictTestdata = test.map(lambda p: (p[0], p[1]))\n",
    "testPredictions = model.predictAll(predictTestdata).map(lambda r: ((r[0], r[1]), r[2]))\n",
    "predictionsAndRatingsOnTest   = test.map(lambda r: ((r[0], r[1]), r[2])).join(testPredictions)\n",
    "testMSE = predictionsAndRatingsOnTest.map(lambda r: (r[1][0] - r[1][1])**2).mean()\n",
    "testValidationRmse = sqrt(MSE)"
   ]
  },
  {
   "cell_type": "code",
   "execution_count": 10,
   "metadata": {},
   "outputs": [
    {
     "name": "stdout",
     "output_type": "stream",
     "text": [
      "RMSE for test:\t1.02\n"
     ]
    }
   ],
   "source": [
    "print(\"RMSE for test:\\t%.2f\" % testValidationRmse)\n"
   ]
  },
  {
   "cell_type": "code",
   "execution_count": 11,
   "metadata": {
    "collapsed": true
   },
   "outputs": [],
   "source": [
    "sc.stop()"
   ]
  }
 ],
 "metadata": {
  "kernelspec": {
   "display_name": "Python 2",
   "language": "python",
   "name": "python2"
  },
  "language_info": {
   "codemirror_mode": {
    "name": "ipython",
    "version": 2
   },
   "file_extension": ".py",
   "mimetype": "text/x-python",
   "name": "python",
   "nbconvert_exporter": "python",
   "pygments_lexer": "ipython2",
   "version": "2.7.14"
  }
 },
 "nbformat": 4,
 "nbformat_minor": 2
}
