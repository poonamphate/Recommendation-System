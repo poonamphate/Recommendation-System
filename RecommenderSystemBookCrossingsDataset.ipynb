{
 "cells": [
  {
   "cell_type": "code",
   "execution_count": 2,
   "metadata": {
    "collapsed": true
   },
   "outputs": [],
   "source": [
    "from __future__ import print_function\n",
    "\n",
    "from pyspark import SparkContext\n",
    "\n",
    "from pyspark.mllib.recommendation import ALS, MatrixFactorizationModel, Rating\n",
    "\n",
    "import itertools\n",
    "from math import sqrt\n",
    "from operator import add\n",
    "from os.path import join, isfile, dirname\n"
   ]
  },
  {
   "cell_type": "code",
   "execution_count": 16,
   "metadata": {},
   "outputs": [],
   "source": [
    "if __name__ == \"__main__\":\n",
    "    #get SparkContext instance\n",
    "    sc = SparkContext.getOrCreate()\n",
    "    \n",
    "    #read input data from Book Crossings dataset\n",
    "    data = sc.textFile(\"C:\\Users\\poonam\\Downloads\\RecommenderSysDataset\\Book-Crossings\\BX-CSV-Dump\\BookCrossings.txt\")\n",
    "\n",
    "    bookCrossings = data.map(lambda l: l.split('\\t'))\n",
    "\n",
    "    ratings = bookCrossings.map(lambda x: Rating(int(x[0]),\\\n",
    "    int(x[1]), float(x[2])))\n",
    "\n",
    "    training, test = ratings.randomSplit([0.7,0.3])\n",
    "\n",
    "    training.cache()\n",
    "    test.cache()"
   ]
  },
  {
   "cell_type": "code",
   "execution_count": 17,
   "metadata": {},
   "outputs": [
    {
     "data": {
      "text/plain": [
       "733643"
      ]
     },
     "execution_count": 17,
     "metadata": {},
     "output_type": "execute_result"
    }
   ],
   "source": [
    "    training.count()"
   ]
  },
  {
   "cell_type": "code",
   "execution_count": 18,
   "metadata": {},
   "outputs": [
    {
     "data": {
      "text/plain": [
       "314931"
      ]
     },
     "execution_count": 18,
     "metadata": {},
     "output_type": "execute_result"
    }
   ],
   "source": [
    "    test.count()"
   ]
  },
  {
   "cell_type": "code",
   "execution_count": 19,
   "metadata": {
    "collapsed": true
   },
   "outputs": [],
   "source": [
    "    ranks       = [5, 10]\n",
    "    lambdas     = [0.1, .01]\n",
    "    numIters    = [5, 10]\n",
    "    bestModel   = None\n",
    "    bestValidationRmse = float(\"inf\")\n",
    "    bestRank    = 0\n",
    "    bestLambda  = -1.0\n",
    "    bestNumIter = -1"
   ]
  },
  {
   "cell_type": "code",
   "execution_count": 21,
   "metadata": {},
   "outputs": [
    {
     "name": "stdout",
     "output_type": "stream",
     "text": [
      "5 0.1 5 1.68662765582\n",
      "5 0.1 10 1.46425588388\n",
      "5 0.01 5 1.90009231849\n",
      "5 0.01 10 1.66498985573\n",
      "10 0.1 5 1.17131534927\n",
      "10 0.1 10 1.02733104301\n",
      "10 0.01 5 1.19848585841\n",
      "10 0.01 10 0.999651332084\n"
     ]
    }
   ],
   "source": [
    "    for rank, lmbda, numIter in itertools.product(ranks, lambdas, numIters):\n",
    "        model = ALS.train(training, rank, numIter, lmbda)\n",
    "        testdata = training.map(lambda p: (p[0], p[1]))\n",
    "        predictions = model.predictAll(testdata).map(lambda r: ((r[0], r[1]), r[2]))\n",
    "                          \n",
    "        predictionsAndRatings = training.map(lambda r: ((r[0], r[1]), r[2])).join(predictions)\n",
    "        MSE = predictionsAndRatings.map(lambda r: (r[1][0] - r[1][1])**2).mean()\n",
    "        validationRmse = sqrt(MSE)\n",
    "\n",
    "        print(rank, lmbda, numIter, validationRmse)\n",
    "        \n",
    "        if(validationRmse < bestValidationRmse):\n",
    "            bestValidationRmse = validationRmse\n",
    "            bestRank = rank\n",
    "            bestLambda = lmbda\n",
    "            bestNumIter = numIter"
   ]
  },
  {
   "cell_type": "code",
   "execution_count": 22,
   "metadata": {},
   "outputs": [
    {
     "name": "stdout",
     "output_type": "stream",
     "text": [
      "Rank =  10 , Lambda =  0.01 , Iterations =   10 , RMSE =  0.999651332084\n",
      "ALS on train:\t\t1.00\n"
     ]
    }
   ],
   "source": [
    "print(\"Rank = \",bestRank,\", Lambda = \",bestLambda,\", Iterations =  \",bestNumIter,\", RMSE = \",bestValidationRmse)\n",
    "\n",
    "print(\"ALS on train:\\t\\t%.2f\" % bestValidationRmse)"
   ]
  },
  {
   "cell_type": "code",
   "execution_count": 23,
   "metadata": {
    "collapsed": true
   },
   "outputs": [],
   "source": [
    "bestModel = ALS.train(training, bestRank, bestNumIter, bestLambda)"
   ]
  },
  {
   "cell_type": "code",
   "execution_count": 24,
   "metadata": {
    "collapsed": true
   },
   "outputs": [],
   "source": [
    "predictTestdata = test.map(lambda p: (p[0], p[1]))\n",
    "testPredictions = model.predictAll(predictTestdata).map(lambda r: ((r[0], r[1]), r[2]))\n",
    "predictionsAndRatingsOnTest   = test.map(lambda r: ((r[0], r[1]), r[2])).join(testPredictions)\n",
    "testMSE = predictionsAndRatingsOnTest.map(lambda r: (r[1][0] - r[1][1])**2).mean()\n",
    "testValidationRmse = sqrt(MSE)"
   ]
  },
  {
   "cell_type": "code",
   "execution_count": 25,
   "metadata": {},
   "outputs": [
    {
     "name": "stdout",
     "output_type": "stream",
     "text": [
      "ALS on test:\t1.00\n"
     ]
    }
   ],
   "source": [
    "print(\"ALS on test:\\t%.2f\" % testValidationRmse)\n"
   ]
  },
  {
   "cell_type": "code",
   "execution_count": 26,
   "metadata": {
    "collapsed": true
   },
   "outputs": [],
   "source": [
    "sc.stop()"
   ]
  },
  {
   "cell_type": "code",
   "execution_count": null,
   "metadata": {
    "collapsed": true
   },
   "outputs": [],
   "source": []
  }
 ],
 "metadata": {
  "kernelspec": {
   "display_name": "Python 2",
   "language": "python",
   "name": "python2"
  },
  "language_info": {
   "codemirror_mode": {
    "name": "ipython",
    "version": 2
   },
   "file_extension": ".py",
   "mimetype": "text/x-python",
   "name": "python",
   "nbconvert_exporter": "python",
   "pygments_lexer": "ipython2",
   "version": "2.7.14"
  }
 },
 "nbformat": 4,
 "nbformat_minor": 2
}
