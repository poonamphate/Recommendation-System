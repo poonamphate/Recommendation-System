{
 "cells": [
  {
   "cell_type": "code",
   "execution_count": 28,
   "metadata": {
    "collapsed": true
   },
   "outputs": [],
   "source": [
    "#import Spark packages\n",
    "from __future__ import print_function\n",
    "\n",
    "from pyspark import SparkContext\n",
    "\n",
    "from pyspark.mllib.recommendation import ALS, Rating\n",
    "\n",
    "import itertools\n",
    "from math import sqrt\n",
    "from os.path import join"
   ]
  },
  {
   "cell_type": "code",
   "execution_count": 29,
   "metadata": {
    "collapsed": true
   },
   "outputs": [],
   "source": [
    "#create an instance of SparkContext\n",
    "if __name__ == \"__main__\":\n",
    "    sc = SparkContext.getOrCreate()"
   ]
  },
  {
   "cell_type": "code",
   "execution_count": 30,
   "metadata": {
    "collapsed": true
   },
   "outputs": [],
   "source": [
    "    #read input dataset into RDD\n",
    "    data = sc.textFile(\"C:\\Users\\poonam\\Downloads\\RecommenderSysDataset\\Book-Crossings\\BX-CSV-Dump\\BookCrossings.txt\")"
   ]
  },
  {
   "cell_type": "code",
   "execution_count": 31,
   "metadata": {},
   "outputs": [
    {
     "data": {
      "text/plain": [
       "1048574"
      ]
     },
     "execution_count": 31,
     "metadata": {},
     "output_type": "execute_result"
    }
   ],
   "source": [
    "    #count number of entries in RDD\n",
    "    data.count()"
   ]
  },
  {
   "cell_type": "code",
   "execution_count": 32,
   "metadata": {},
   "outputs": [
    {
     "data": {
      "text/plain": [
       "[u'276725\\t1\\t0',\n",
       " u'276726\\t2\\t5',\n",
       " u'276727\\t3\\t0',\n",
       " u'276729\\t4\\t3',\n",
       " u'276729\\t5\\t6']"
      ]
     },
     "execution_count": 32,
     "metadata": {},
     "output_type": "execute_result"
    }
   ],
   "source": [
    "    #read first 5 elements from RDD\n",
    "    data.take(5)"
   ]
  },
  {
   "cell_type": "code",
   "execution_count": 33,
   "metadata": {
    "collapsed": true
   },
   "outputs": [],
   "source": [
    "    bookCrossings = data.map(lambda l: l.split('\\t'))"
   ]
  },
  {
   "cell_type": "code",
   "execution_count": 34,
   "metadata": {},
   "outputs": [
    {
     "data": {
      "text/plain": [
       "[[u'276725', u'1', u'0'],\n",
       " [u'276726', u'2', u'5'],\n",
       " [u'276727', u'3', u'0'],\n",
       " [u'276729', u'4', u'3'],\n",
       " [u'276729', u'5', u'6']]"
      ]
     },
     "execution_count": 34,
     "metadata": {},
     "output_type": "execute_result"
    }
   ],
   "source": [
    "    bookCrossings.take(5)"
   ]
  },
  {
   "cell_type": "code",
   "execution_count": 35,
   "metadata": {
    "collapsed": true
   },
   "outputs": [],
   "source": [
    "    #create an object of class Rating(int user, int product, double rating) \n",
    "    ratings = bookCrossings.map(lambda x: Rating(int(x[0]), int(x[1]), float(x[2])))"
   ]
  },
  {
   "cell_type": "code",
   "execution_count": 36,
   "metadata": {},
   "outputs": [
    {
     "data": {
      "text/plain": [
       "Rating(user=276725, product=1, rating=0.0)"
      ]
     },
     "execution_count": 36,
     "metadata": {},
     "output_type": "execute_result"
    }
   ],
   "source": [
    "    ratings.first()"
   ]
  },
  {
   "cell_type": "code",
   "execution_count": 37,
   "metadata": {},
   "outputs": [
    {
     "data": {
      "text/plain": [
       "[Rating(user=276725, product=1, rating=0.0),\n",
       " Rating(user=276726, product=2, rating=5.0),\n",
       " Rating(user=276727, product=3, rating=0.0),\n",
       " Rating(user=276729, product=4, rating=3.0),\n",
       " Rating(user=276729, product=5, rating=6.0)]"
      ]
     },
     "execution_count": 37,
     "metadata": {},
     "output_type": "execute_result"
    }
   ],
   "source": [
    "    ratings.take(5)"
   ]
  },
  {
   "cell_type": "code",
   "execution_count": 40,
   "metadata": {
    "collapsed": true
   },
   "outputs": [],
   "source": [
    "    # Split dataset into train and test set\n",
    "    training, test = ratings.randomSplit([0.7,0.3])"
   ]
  },
  {
   "cell_type": "code",
   "execution_count": 41,
   "metadata": {},
   "outputs": [
    {
     "data": {
      "text/plain": [
       "PythonRDD[3105] at RDD at PythonRDD.scala:48"
      ]
     },
     "execution_count": 41,
     "metadata": {},
     "output_type": "execute_result"
    }
   ],
   "source": [
    "    training.cache()\n",
    "    test.cache()"
   ]
  },
  {
   "cell_type": "code",
   "execution_count": 42,
   "metadata": {},
   "outputs": [
    {
     "data": {
      "text/plain": [
       "734211"
      ]
     },
     "execution_count": 42,
     "metadata": {},
     "output_type": "execute_result"
    }
   ],
   "source": [
    "    training.count()"
   ]
  },
  {
   "cell_type": "code",
   "execution_count": 43,
   "metadata": {},
   "outputs": [
    {
     "data": {
      "text/plain": [
       "314363"
      ]
     },
     "execution_count": 43,
     "metadata": {},
     "output_type": "execute_result"
    }
   ],
   "source": [
    "    test.count()"
   ]
  },
  {
   "cell_type": "code",
   "execution_count": 45,
   "metadata": {
    "collapsed": true
   },
   "outputs": [],
   "source": [
    "    # define parameter range for ALS algorithm\n",
    "    ranks       = [5, 10]\n",
    "    lambdas     = [0.1, .01]\n",
    "    numIters    = [5, 10, 15]\n",
    "    bestModel   = None\n",
    "    bestValidationRmse = float(\"inf\")\n",
    "    bestRank    = 0\n",
    "    bestLambda  = -1.0\n",
    "    bestNumIter = -1"
   ]
  },
  {
   "cell_type": "code",
   "execution_count": 46,
   "metadata": {},
   "outputs": [
    {
     "name": "stdout",
     "output_type": "stream",
     "text": [
      "5 0.1 5 1.81138008542\n",
      "5 0.1 10 1.46911842136\n",
      "5 0.1 15 1.41978917603\n",
      "5 0.01 5 1.82814727599\n",
      "5 0.01 10 1.53291271648\n",
      "5 0.01 15 1.48682610749\n",
      "10 0.1 5 1.18489134483\n",
      "10 0.1 10 1.03095498997\n",
      "10 0.1 15 0.977239865464\n",
      "10 0.01 5 1.24245724176\n",
      "10 0.01 10 0.995344064048\n",
      "10 0.01 15 0.925562649813\n"
     ]
    }
   ],
   "source": [
    "    # implement collaberative filtering by calling ALS.train()\n",
    "    for rank, lmbda, numIter in itertools.product(ranks, lambdas, numIters):\n",
    "        model = ALS.train(training, rank, numIter, lmbda)\n",
    "        testdata = training.map(lambda p: (p[0], p[1]))\n",
    "        predictions = model.predictAll(testdata).map(lambda r: ((r[0], r[1]), r[2]))\n",
    "          \n",
    "        # calculate RMSE\n",
    "        predictionsAndRatings = training.map(lambda r: ((r[0], r[1]), r[2])).join(predictions)\n",
    "        MSE = predictionsAndRatings.map(lambda r: (r[1][0] - r[1][1])**2).mean()\n",
    "        validationRmse = sqrt(MSE)\n",
    "\n",
    "        print(rank, lmbda, numIter, validationRmse)\n",
    "        \n",
    "        if(validationRmse < bestValidationRmse):\n",
    "            bestValidationRmse = validationRmse\n",
    "            bestRank = rank\n",
    "            bestLambda = lmbda\n",
    "            bestNumIter = numIter"
   ]
  },
  {
   "cell_type": "code",
   "execution_count": 47,
   "metadata": {},
   "outputs": [
    {
     "name": "stdout",
     "output_type": "stream",
     "text": [
      "Rank =  10 , Lambda =  0.01 , Iterations =   15 , RMSE =  0.925562649813\n",
      "RMSE for train:\t\t0.926\n"
     ]
    }
   ],
   "source": [
    "    print(\"Rank = \",bestRank,\", Lambda = \",bestLambda,\", Iterations =  \",bestNumIter,\", RMSE = \",bestValidationRmse)\n",
    "\n",
    "    print(\"RMSE for train:\\t\\t%.3f\" % bestValidationRmse)"
   ]
  },
  {
   "cell_type": "code",
   "execution_count": 48,
   "metadata": {
    "collapsed": true
   },
   "outputs": [],
   "source": [
    "    # train the model using optimized parameters\n",
    "    bestModel = ALS.train(training, bestRank, bestNumIter, bestLambda)"
   ]
  },
  {
   "cell_type": "code",
   "execution_count": 58,
   "metadata": {},
   "outputs": [
    {
     "data": {
      "text/plain": [
       "[Rating(user=276729, product=214408, rating=19.17244874129043),\n",
       " Rating(user=276729, product=419578, rating=19.17244874129043)]"
      ]
     },
     "execution_count": 58,
     "metadata": {},
     "output_type": "execute_result"
    }
   ],
   "source": [
    "    bestModel.recommendProducts(276729, 2)"
   ]
  },
  {
   "cell_type": "code",
   "execution_count": 59,
   "metadata": {},
   "outputs": [
    {
     "data": {
      "text/plain": [
       "[Rating(user=90467, product=2, rating=25.575049362820664),\n",
       " Rating(user=174834, product=2, rating=21.36798048222395),\n",
       " Rating(user=111228, product=2, rating=20.50604528447721),\n",
       " Rating(user=221967, product=2, rating=19.875966697994627),\n",
       " Rating(user=85502, product=2, rating=19.591909139276513)]"
      ]
     },
     "execution_count": 59,
     "metadata": {},
     "output_type": "execute_result"
    }
   ],
   "source": [
    "    bestModel.recommendUsers(2, 5)"
   ]
  },
  {
   "cell_type": "code",
   "execution_count": 62,
   "metadata": {
    "collapsed": true
   },
   "outputs": [],
   "source": [
    "    predictTestdata = test.map(lambda p: (p[0], p[1]))\n",
    "    testPredictions = model.predictAll(predictTestdata).map(lambda r: ((r[0], r[1]), r[2]))\n",
    "    predictionsAndRatingsOnTest   = test.map(lambda r: ((r[0], r[1]), r[2])).join(testPredictions)\n",
    "    testMSE = predictionsAndRatingsOnTest.map(lambda r: (r[1][0] - r[1][1])**2).mean()\n",
    "    testValidationRmse = sqrt(MSE)"
   ]
  },
  {
   "cell_type": "code",
   "execution_count": 64,
   "metadata": {},
   "outputs": [
    {
     "name": "stdout",
     "output_type": "stream",
     "text": [
      "RMSE for test:\t0.9255626498\n"
     ]
    }
   ],
   "source": [
    "    print(\"RMSE for test:\\t%.10f\" % testValidationRmse)"
   ]
  },
  {
   "cell_type": "code",
   "execution_count": 65,
   "metadata": {
    "collapsed": true
   },
   "outputs": [],
   "source": [
    "    sc.stop()"
   ]
  }
 ],
 "metadata": {
  "kernelspec": {
   "display_name": "Python 2",
   "language": "python",
   "name": "python2"
  },
  "language_info": {
   "codemirror_mode": {
    "name": "ipython",
    "version": 2
   },
   "file_extension": ".py",
   "mimetype": "text/x-python",
   "name": "python",
   "nbconvert_exporter": "python",
   "pygments_lexer": "ipython2",
   "version": "2.7.14"
  }
 },
 "nbformat": 4,
 "nbformat_minor": 2
}
